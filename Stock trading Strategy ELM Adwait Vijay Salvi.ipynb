{
 "cells": [
  {
   "cell_type": "markdown",
   "metadata": {},
   "source": [
    "# A Stock Trading Strategy based on ELM\n",
    "\n",
    "In this Project we are implementing a trading strategy which uses Extreme Machine Learning and Oscillation Box Theory to predict stock price.\n"
   ]
  },
  {
   "cell_type": "markdown",
   "metadata": {},
   "source": [
    "## Packages Needed\n",
    "We start by importing all the needed modules for our project "
   ]
  },
  {
   "cell_type": "code",
   "execution_count": 2,
   "metadata": {},
   "outputs": [],
   "source": [
    "import pandas as pd\n",
    "import numpy as np\n",
    "import matplotlib.pyplot as plt\n",
    "from sklearn.decomposition import PCA\n",
    "from sklearn.model_selection import train_test_split\n",
    "from sklearn.metrics import mean_squared_error\n",
    "from sklearn.model_selection import TimeSeriesSplit"
   ]
  },
  {
   "cell_type": "markdown",
   "metadata": {},
   "source": [
    "## Simple Parameters  \n",
    "Explanation: We are bascially using n2 days of stock price data as input for our ELM and the closing price of the next n1 days as an output of our ELM. N3 is number of nodes in the hidden layer in our SLFN. \n",
    "Here we are also loading our data form the csv file named AAPL.csv"
   ]
  },
  {
   "cell_type": "code",
   "execution_count": 3,
   "metadata": {},
   "outputs": [],
   "source": [
    "# defining Variables Values\n",
    "n1 = 15\n",
    "n2 = 60    \n",
    "n3 = 780\n",
    "\n",
    "# Reading Data into our system\n",
    "data = pd.read_csv(\"AAPL.csv\")\n",
    "data.head()\n",
    "close_high = max(data['Close'])\n",
    "close_low = min(data['Close'])"
   ]
  },
  {
   "cell_type": "markdown",
   "metadata": {},
   "source": [
    "## Gray Correlation Degree\n",
    "We are using Gray Correlation Degree to calculate the weights as input for our ELM. GCD use the following formula:\n",
    "\n",
    "$ r(t_i, x_i) = \\frac{min|t_i - x_i| + \\xi max|t_i - x_i|}{|t_i - x_i| + \\xi max|t_i - x_i|} $"
   ]
  },
  {
   "cell_type": "code",
   "execution_count": 4,
   "metadata": {},
   "outputs": [],
   "source": [
    "# Gray Correlation Degree (GCD)\n",
    "\n",
    "def GCD(t_arr, x_arr, xi=0.5): # xi should be between (0,1)\n",
    "    \n",
    "    t_x_arr = np.absolute(np.subtract(t_arr, x_arr))\n",
    "    \n",
    "    r_arr = (min(t_x_arr) + xi*max(t_x_arr))/(t_x_arr + xi*max(t_x_arr))\n",
    "    \n",
    "    return r_arr\n",
    "    "
   ]
  },
  {
   "cell_type": "markdown",
   "metadata": {},
   "source": [
    "## Moving Average\n",
    "We are using 30 day Moving Average as one of the input for our ELM "
   ]
  },
  {
   "cell_type": "code",
   "execution_count": 5,
   "metadata": {},
   "outputs": [],
   "source": [
    "# Moving Average\n",
    "def MA(a, n=30):\n",
    "    ret = np.cumsum(a, dtype=float)\n",
    "    ret[n:] = ret[n:] - ret[:-n]\n",
    "    ret[n - 1:] = ret[n - 1:] / n\n",
    "    ret[:n-1] = 0\n",
    "    return ret"
   ]
  },
  {
   "cell_type": "markdown",
   "metadata": {},
   "source": [
    "## Rate of change\n",
    "Formula\n",
    "\n",
    "$ ROC price = \\frac{cur_{price} - prev_{price}}{prev_{price}} $"
   ]
  },
  {
   "cell_type": "code",
   "execution_count": 6,
   "metadata": {},
   "outputs": [],
   "source": [
    "# ROC rate of change \n",
    "def ROC(a, n=30):\n",
    "    \n",
    "    re = ((a[n:] - a[:len(a)-n])/a[:len(a)-n])*100\n",
    "    re = np.concatenate((np.zeros(n),np.array(re)))\n",
    "    return re\n",
    "    "
   ]
  },
  {
   "cell_type": "markdown",
   "metadata": {},
   "source": [
    "## Relative Strength Index\n",
    "Formula:\n",
    "\n",
    "$ RSI_{step one} = 100 - \\left[ \\frac{100}{1 + \\frac{Average Gain}{Average Loss}} \\right] $"
   ]
  },
  {
   "cell_type": "code",
   "execution_count": 7,
   "metadata": {},
   "outputs": [],
   "source": [
    "# RSI Relative strength index\n",
    "\n",
    "def singleRSI(a):\n",
    "    \n",
    "    # daily gain or loss\n",
    "    \n",
    "    ret = (a[1:] - a[:len(a)-1])/a[:len(a)-1]\n",
    "    zero = np.zeros(len(a)-1)\n",
    "    ind = ret > zero\n",
    "    avg_gain = np.mean(ret[ind])\n",
    "    avg_loss = np.mean(-ret[np.logical_not(ind)])\n",
    "    return 100 - (100/(1 + (avg_gain/avg_loss)))\n",
    "\n",
    "def RSI(a, n=30):\n",
    "\n",
    "    re = np.zeros(len(a)-n)\n",
    "    for i in range(len(a)-n):\n",
    "        re[i] = singleRSI(a[i:n+i])\n",
    "    \n",
    "    return np.concatenate((np.zeros(n),re))"
   ]
  },
  {
   "cell_type": "markdown",
   "metadata": {},
   "source": [
    "## Stochastics \n",
    "FastK, SlowK and SlowD are different stochastics which are trying to measure the sensitivity of the stock price.\n",
    "\n",
    "FastK Formula:\n",
    "\n",
    "$ FastK = \\frac{100 * (CP - L14)}{(H14 - L14} $\n",
    "\n",
    "CP = Closing Price\n",
    "\n",
    "L14 = Lowest Price of the previous 14 days\n",
    "\n",
    "H14 = Highest Price of the previous 14 days"
   ]
  },
  {
   "cell_type": "code",
   "execution_count": 8,
   "metadata": {},
   "outputs": [],
   "source": [
    "# FastK \n",
    "def FastK(a, k=14):\n",
    "    \n",
    "    re = np.zeros(len(a)-k)\n",
    "    for i in range(len(a)-k):\n",
    "        re[i] = 100*(a[i] - min(a[i:k+i]))/(max(a[i:k+i]) - min(a[i:k+i]))\n",
    "    \n",
    "    return np.concatenate((np.full([k], 0),re))"
   ]
  },
  {
   "cell_type": "markdown",
   "metadata": {},
   "source": [
    "SlowK = Moving Average of 3 prev FastKs"
   ]
  },
  {
   "cell_type": "code",
   "execution_count": 9,
   "metadata": {},
   "outputs": [],
   "source": [
    "# SlowK\n",
    "def SlowK(a, k=3):\n",
    "    \n",
    "    return MA(FastK(a),k)\n",
    "    \n",
    "    "
   ]
  },
  {
   "cell_type": "markdown",
   "metadata": {},
   "source": [
    "SlowD = Moving Average of 3 prev SlowKs"
   ]
  },
  {
   "cell_type": "code",
   "execution_count": 10,
   "metadata": {},
   "outputs": [],
   "source": [
    "# SlowD\n",
    "def SlowD(a, k=3):\n",
    "    \n",
    "    return MA(SlowK(a),k)"
   ]
  },
  {
   "cell_type": "code",
   "execution_count": 11,
   "metadata": {},
   "outputs": [],
   "source": [
    "# Upk's and Lowk's\n",
    "def Upk(a, n1 = 15):\n",
    "    \n",
    "    re = np.zeros(len(a)-n1)\n",
    "    for i in range(len(a)-n1):\n",
    "        re [i] = max(a[i:n1+i])\n",
    "    \n",
    "    return np.concatenate((np.full([n1], 0),re))\n",
    "\n",
    "def Lowk(a, n1 = 15):\n",
    "    \n",
    "    re = np.zeros(len(a)-n1)\n",
    "    for i in range(len(a)-n1):\n",
    "        re [i] = min(a[i:n1+i])\n",
    "    \n",
    "    return np.concatenate((np.full([n1], 0),re))"
   ]
  },
  {
   "cell_type": "markdown",
   "metadata": {},
   "source": [
    "## Normalization\n",
    "We are Pre-processing History Indictors. Basically passing alll our input features through a normalization technique. We are normalizing all indictor between [-1,1] "
   ]
  },
  {
   "cell_type": "code",
   "execution_count": 12,
   "metadata": {},
   "outputs": [],
   "source": [
    "# Normalize Function between (-1,1)\n",
    "\n",
    "def Norm(a):\n",
    "    \n",
    "    return (-1 + 2*((a - min(a))/(max(a)-min(a))))\n",
    "\n",
    "def Norm_df(df):\n",
    "    \n",
    "    for i in df.columns:\n",
    "        \n",
    "        if i != 'Date':\n",
    "            df[i] = Norm(np.array(df[i]))\n",
    "    \n",
    "    return df"
   ]
  },
  {
   "cell_type": "markdown",
   "metadata": {},
   "source": [
    "## Putting all features together\n",
    "In this step we add all the calculated features to our data"
   ]
  },
  {
   "cell_type": "code",
   "execution_count": 13,
   "metadata": {},
   "outputs": [],
   "source": [
    "# populating calculated values\n",
    "\n",
    "# MA\n",
    "data['MA'] = MA(np.array(data['Close']))\n",
    "\n",
    "# ROC \n",
    "data['ROC'] = ROC(np.array(data['Close']))\n",
    "\n",
    "# RSI\n",
    "data['RSI'] = RSI(np.array(data['Close']))\n",
    "\n",
    "# FastK\n",
    "data['FastK'] = FastK(np.array(data['Close']))\n",
    "\n",
    "#SlowK\n",
    "data['SlowK'] = SlowK(np.array(data['Close']))\n",
    "\n",
    "#SlowD\n",
    "data['SlowD'] = SlowD(np.array(data['Close']))\n",
    "\n",
    "#UpK\n",
    "data['Upk'] = Upk(np.array(data['Close']))\n",
    "\n",
    "#Lowk\n",
    "data['Lowk'] = Lowk(np.array(data['Close']))\n",
    "\n",
    "data = Norm_df(data)\n"
   ]
  },
  {
   "cell_type": "markdown",
   "metadata": {},
   "source": [
    "## Closing Price\n",
    "Looking at the closing price closely we can see that the stock of AAPL has risen significantly since 2006"
   ]
  },
  {
   "cell_type": "code",
   "execution_count": 14,
   "metadata": {},
   "outputs": [
    {
     "data": {
      "text/plain": [
       "[<matplotlib.lines.Line2D at 0x236a7bc40f0>]"
      ]
     },
     "execution_count": 14,
     "metadata": {},
     "output_type": "execute_result"
    },
    {
     "data": {
      "image/png": "[encoded data removed]",
      "text/plain": [
       "<Figure size 432x288 with 1 Axes>"
      ]
     },
     "metadata": {
      "needs_background": "light"
     },
     "output_type": "display_data"
    }
   ],
   "source": [
    "plt.plot(data['Close'])"
   ]
  },
  {
   "cell_type": "markdown",
   "metadata": {},
   "source": [
    "## Movementum \n",
    "The Stock Price Movementum can be calculated using ROC and RSI"
   ]
  },
  {
   "cell_type": "code",
   "execution_count": 15,
   "metadata": {},
   "outputs": [
    {
     "data": {
      "text/plain": [
       "[<matplotlib.lines.Line2D at 0x236a7c90ba8>]"
      ]
     },
     "execution_count": 15,
     "metadata": {},
     "output_type": "execute_result"
    },
    {
     "data": {
      "image/png": "[encoded data removed]",
      "text/plain": [
       "<Figure size 1152x360 with 2 Axes>"
      ]
     },
     "metadata": {
      "needs_background": "light"
     },
     "output_type": "display_data"
    }
   ],
   "source": [
    "fig, (axs1, axs2) = plt.subplots(1,2, figsize=(16,5))\n",
    "axs1.plot(data['ROC'])\n",
    "axs2.plot(data['RSI'])\n"
   ]
  },
  {
   "cell_type": "markdown",
   "metadata": {},
   "source": [
    "## Stochastics \n",
    "Stochastics are used to measure the sensitivities of the stock price. We are using 3 Stochastics. The slower the stochastic the less sensitive it is to change. So the curve of SlowK is smoother than FastK and similarly the curve of SlowD is smoother than SlowK.  "
   ]
  },
  {
   "cell_type": "code",
   "execution_count": 16,
   "metadata": {},
   "outputs": [
    {
     "data": {
      "text/plain": [
       "[<matplotlib.lines.Line2D at 0x236a7cc4400>]"
      ]
     },
     "execution_count": 16,
     "metadata": {},
     "output_type": "execute_result"
    },
    {
     "data": {
      "image/png": "[encoded data removed]",
      "text/plain": [
       "<Figure size 432x288 with 1 Axes>"
      ]
     },
     "metadata": {
      "needs_background": "light"
     },
     "output_type": "display_data"
    }
   ],
   "source": [
    "plt.plot(data['FastK'][:100])\n",
    "plt.plot(data['SlowK'][:100])\n",
    "plt.plot(data['SlowD'][:100])"
   ]
  },
  {
   "cell_type": "markdown",
   "metadata": {},
   "source": [
    "## Processing data for the ELM model\n",
    "We are using 13 daily features and a n2 day window as our input vector giving us a total of $ 13*n_2 $ input nodes and $ n_1$ output nodes.\n",
    "\n",
    "### GCD \n",
    "Since we are calcualting GCD between two features with different sample sizes (example: 15, 60) we need to expand one feature to fit the larger one. so we expand the smaller feature by filling the intermediate values linearly. and then we calculate the final weighted feature vector.\n",
    "\n",
    "Formula:\n",
    "\n",
    "$ F_i = [O_k, H_k, L_k, C_k, Vol_k, MA_k, ROC_k, RSI_k, FastK_k, SlowK_k, SlowD_k, UpK_k, LowK_k] $\n",
    "\n",
    "where $ k = (i-1,i-2, ... ,i-n2) $\n",
    "\n",
    "$ I_i = F_i ^{\\circ} W_i $"
   ]
  },
  {
   "cell_type": "code",
   "execution_count": 17,
   "metadata": {},
   "outputs": [],
   "source": [
    "# Recreating Paper\n",
    "# ELM \n",
    "# creating data for training\n",
    "Feature = np.zeros(( len(data)-n2-30-n1, 13*n2))\n",
    "\n",
    "for i in range(len(data)-n2-30-n1):\n",
    "    \n",
    "    Feature[i] = data[30+i:30+i+n2].drop(['Date'],axis=1).values.flatten()\n",
    "\n",
    "Target = np.zeros((len(data)-n2-30-n1, n1))\n",
    "\n",
    "for i in range(len(data)-n2-30-n1):\n",
    "    \n",
    "    Target[i] = data['Close'][30+i+n2:30+i+n2+n1]\n",
    "\n",
    "# Gray Correaltion Degree\n",
    "def expand_arr(arr,s1,s2):\n",
    "    \n",
    "    div = (s2-s1)//(s1-1)\n",
    "    ext = (s2-s1)%(s1-1)\n",
    "    new_arr = np.zeros(s2)\n",
    "    j = 0\n",
    "    for i in range(s1-1):\n",
    "        \n",
    "        if ext > 0:\n",
    "            adder = (arr[i+1] - arr[i])/(div+1)\n",
    "            new_arr[j] = arr[i]\n",
    "            j += 1\n",
    "            for k in range(div+1):\n",
    "                new_arr[j] = arr[i] + adder\n",
    "                adder += adder\n",
    "                j += 1\n",
    "            ext -= 1\n",
    "            \n",
    "        else:\n",
    "            adder = (arr[i+1] - arr[i])/(div)\n",
    "            new_arr[j] = arr[i]\n",
    "            j += 1\n",
    "            for k in range(div):\n",
    "                new_arr[j] = arr[i] + adder\n",
    "                adder += adder\n",
    "                j += 1\n",
    "    new_arr[j] = arr[i+1]\n",
    "    \n",
    "    return new_arr\n",
    "\n",
    "# getting GCD for all the values of the feature vector\n",
    "'''\n",
    "Since our feature vector has 60 variables and target \n",
    "has 15 we need to expand the array from 15 to 60 to get 1:1 gcd correlation\n",
    "'''\n",
    "new_Target = np.zeros((len(data)-n2-30-n1, n2))\n",
    "\n",
    "for i in range(len(data)-n2-30-n1):\n",
    "    \n",
    "    new_Target[i] = expand_arr(Target[i],n1,n2)\n",
    "\n",
    "GCD_weights = np.zeros(( len(data)-n2-30-n1, 13*n2))\n",
    "for i in range(len(data)-n2-30-n1):\n",
    "    \n",
    "    for j in range(13):\n",
    "        GCD_weights[i][j*n2:(j+1)*n2] = GCD( new_Target[i], Feature[i][j*n2:(j+1)*n2])\n",
    "\n",
    "Feature = np.multiply( Feature, GCD_weights) "
   ]
  },
  {
   "cell_type": "code",
   "execution_count": 18,
   "metadata": {},
   "outputs": [],
   "source": [
    "# Sigmoid Function\n",
    "\n",
    "def sigmoid(x):\n",
    "    return 1 / (1 + np.exp(-x))"
   ]
  },
  {
   "cell_type": "markdown",
   "metadata": {},
   "source": [
    "## ELM Training\n",
    "ELM theory suggests that the weights and baises of the hidden layer are selected at random and the weights of the output layer are calculated using simple optimization. Here we have generated the weights and baises using Uniform distribution. The weights of the output layer $ \\beta_i $ are calculated by taking the Moore Penrose generalized inverse of the output of the hidden layer and then multiplying it with the actual output.\n",
    "\n",
    "$ \\beta = G^{\\dagger} \\cdot T$\n",
    "\n",
    "for calculating the Moore Penrose generalized inverse matrix we used Singular-Value Decomposition technique"
   ]
  },
  {
   "cell_type": "code",
   "execution_count": 42,
   "metadata": {},
   "outputs": [],
   "source": [
    "\n",
    "weights = np.random.randn(13*n2,n3)\n",
    "bais = np.random.randn( n3)\n",
    "F_train, F_test, T_train, T_test = train_test_split(Feature,Target,test_size=0.1,random_state=42)\n",
    "beta = np.zeros((len(F_train),n3,n1))\n",
    "baises = [bais]*len(F_train)\n",
    "beta = np.linalg.pinv(np.matrix(sigmoid((F_train @ weights)+baises))) @ T_train\n",
    "\n",
    "\n"
   ]
  },
  {
   "cell_type": "markdown",
   "metadata": {},
   "source": [
    "## Testing\n",
    "We are testing the ELM model. we have partitioned the data into 90:10 Train and test data set and after train the data we use the ELM model to predict the result and we calculate the prediction error Mean Squared Error."
   ]
  },
  {
   "cell_type": "code",
   "execution_count": 43,
   "metadata": {},
   "outputs": [
    {
     "data": {
      "text/plain": [
       "0.0026754831408512723"
      ]
     },
     "execution_count": 43,
     "metadata": {},
     "output_type": "execute_result"
    }
   ],
   "source": [
    "baises = [bais]*len(F_test)\n",
    "\n",
    "mean_squared_error(sigmoid((F_test @ weights)+baises) @ beta, T_test)"
   ]
  },
  {
   "cell_type": "markdown",
   "metadata": {},
   "source": [
    "## Simulating the actual trading strategy \n",
    "The real test of our algorithm is not actual price prediction but the basically the profit we would get from applying our strategy. Here we simulate a very basci strategy where if the closing price is close to the low end of the oscillation box and we don't any have stocks then we buy the maximum possible stock with out current amount and if the closing price is high and we have stocks then we sell all the stocks. Here when starting with an initial portfolio of 100 dollars we end up with a substancial profit at the end. "
   ]
  },
  {
   "cell_type": "code",
   "execution_count": 44,
   "metadata": {},
   "outputs": [
    {
     "data": {
      "text/plain": [
       "1790.5612838689651"
      ]
     },
     "execution_count": 44,
     "metadata": {},
     "output_type": "execute_result"
    }
   ],
   "source": [
    "# Trading strategy\n",
    "\n",
    "next_trade = \"buy\"\n",
    "buy_price = 0\n",
    "sell_price = 0\n",
    "\n",
    "sigma = 0.015\n",
    "phi = 0\n",
    "\n",
    "fie = 0.05\n",
    "theta = 0.05\n",
    "\n",
    "initial_amount = 100\n",
    "amount = 100\n",
    "no_stocks = 0\n",
    "\n",
    "for i in range(len(data)-n2-30-n1):\n",
    "    \n",
    "    ci = Feature[i][13*(n2-1) + 3]\n",
    "    pred = sigmoid((Feature[i] @ weights)+bais) @ beta\n",
    "    lowi = pred.min()\n",
    "    upi = pred.max()\n",
    "    \n",
    "    if next_trade == \"buy\":\n",
    "        \n",
    "        if abs(ci - lowi)/ci <= sigma:\n",
    "            if sell_price - ci >= phi:\n",
    "                buy_price = ci\n",
    "                no_stocks = amount/((ci + 1)*(close_high - close_low)/2 + close_low)\n",
    "                amount = 0\n",
    "                next_trade = \"sell\"\n",
    "    \n",
    "    elif abs(ci - upi)/ci <= sigma:\n",
    "        \n",
    "        if ci - buy_price >= fie:\n",
    "            sell_price = ci\n",
    "            amount = no_stocks*((ci + 1)*(close_high - close_low)/2 + close_low)\n",
    "            no_stocks = 0\n",
    "            next_trade = \"buy\"\n",
    "\n",
    "amount"
   ]
  },
  {
   "cell_type": "markdown",
   "metadata": {},
   "source": [
    "## Improvement (suggested)\n",
    "We can clearly see that we are using high dimensional data as input and along with that our input feature are also derived from just one feature(Closing price). So it is reasonable to think that the input data might be highly correlated and so we applying a simple linear dimensionality reduction technique called Principle Component Analysis to lower number of the input features and then perform the same test on our data."
   ]
  },
  {
   "cell_type": "code",
   "execution_count": 46,
   "metadata": {},
   "outputs": [],
   "source": [
    "pca = PCA(n_components=300)\n",
    "pca.fit(Feature)\n",
    "\n",
    "pca_Feature = pca.fit_transform(Feature)"
   ]
  },
  {
   "cell_type": "code",
   "execution_count": 48,
   "metadata": {},
   "outputs": [
    {
     "name": "stdout",
     "output_type": "stream",
     "text": [
      "Mean Squared Error 0.007153062128812905\n",
      "We have started with an amount of 100\n",
      "The final amount we get after trading is 1790.5612838689651\n"
     ]
    }
   ],
   "source": [
    "# setting the weights random\n",
    "# the hidden layer will have 13*n2*n weights and n baises\n",
    "\n",
    "weights = np.random.randn(300,n3)\n",
    "bais = np.random.randn( n3)\n",
    "F_train, F_test, T_train, T_test = train_test_split(pca_Feature,Target,test_size=0.1,random_state=42)\n",
    "beta = np.zeros((len(F_train),n3,n1))\n",
    "baises = [bais]*len(F_train)\n",
    "beta = np.linalg.pinv(np.matrix(sigmoid((F_train @ weights)+baises))) @ T_train\n",
    "\n",
    "baises = [bais]*len(F_test)\n",
    "\n",
    "mse = mean_squared_error(sigmoid((F_test @ weights)+baises) @ beta, T_test)\n",
    "\n",
    "print(\"Mean Squared Error \"+str(mse))\n",
    "# Trading strategy\n",
    "\n",
    "next_trade = \"buy\"\n",
    "buy_price = 0\n",
    "sell_price = 0\n",
    "\n",
    "sigma = 0.015\n",
    "phi = 0\n",
    "\n",
    "fie = 0.05\n",
    "theta = 0.05\n",
    "\n",
    "initial_amount = 100\n",
    "amount = 100\n",
    "no_stocks = 0\n",
    "\n",
    "for i in range(len(data)-n2-30-n1):\n",
    "    \n",
    "    ci = Feature[i][13*(n2-1) + 3]\n",
    "    pred = sigmoid((pca_Feature[i] @ weights)+baises) @ beta\n",
    "    lowi = pred.min()\n",
    "    upi = pred.max()\n",
    "    \n",
    "    if next_trade == \"buy\":\n",
    "        \n",
    "        if abs(ci - lowi)/ci <= sigma:\n",
    "            if sell_price - ci >= phi:\n",
    "                buy_price = ci\n",
    "                no_stocks = amount/((ci + 1)*(close_high - close_low)/2 + close_low)\n",
    "                amount = 0\n",
    "                next_trade = \"sell\"\n",
    "    \n",
    "    elif abs(ci - upi)/ci <= sigma:\n",
    "        \n",
    "        if ci - buy_price >= fie:\n",
    "            sell_price = ci\n",
    "            amount = no_stocks*((ci + 1)*(close_high - close_low)/2 + close_low)\n",
    "            no_stocks = 0\n",
    "            next_trade = \"buy\"\n",
    "        \n",
    "    \n",
    "\n",
    "print(\"We have started with an amount of \"+str(initial_amount))\n",
    "print(\"The final amount we get after trading is \"+str(amount))"
   ]
  },
  {
   "cell_type": "markdown",
   "metadata": {},
   "source": [
    "## Observations\n",
    "\n",
    "### General Strategy\n",
    "We proposed a new approach of a more dynamic stock decision support system which has proved to be more lucrative. In our experiment we started with an initial portfolio of 100 dollars and on an average ended up with 1800 dollars. Which translates to a very significant 24% annual rate for our 12 years of trading.\n",
    "\n",
    "### Error\n",
    "We used Mean Squared error as a our error determination metric. We get a consistent value of 0.0025 MSE for our Normal Feature and 0.007 for our PCA generated features. \n",
    "\n",
    "### Splitting training and testing\n",
    "We also noticed a key thing which is that when the training and test data is split unshuffled or as a time series then we get a much higher MSE for both our features. This migth because of the fact that Apple's stock price has since quite a few highs and low since 2000's owing to the fact that they made quite a few major changes to their business model and also because of the outstanding success of the Iphone.\n",
    "\n",
    "### Random weight generation\n",
    "We also tried using Normally distributed random values for weights and baises, which lead to a higher MSE but we can't precisely point out why this happens exactly.   \n",
    "\n",
    "### Improvements\n",
    "We have improved on the provided strategy by applying PCA on the input features to reduce the number of input features from 780 to 300. This significant decrease in input features gives the same Profit for our trading strategy although it does give us a slightly higher MSE, but all things considered PCA has definitely improved the efficiency of our algorithm which is very important as we want to make decisions in real time.\n",
    "\n",
    "## Conclusion\n",
    "In our experiment,\n",
    "we have shown that our system is capable of superior performance to give investors\n",
    "considerable returns, especially when the stock price in a fluctuant movement the system can\n",
    "bring more lucrative benefits. Which can be attributed to two factors. The first one is the\n",
    "fast learning ability and high precision of ELM and coupled that with PCA which makes it even faster. The second one is that trading with box theory is based on only on the highest and lowest values the stock could reach in a certain period\n",
    "of time, which reduces the impact of noise and uncertainty in the stock market on\n",
    "the prediction accuracy. Lastly, using Gray Correlation degree (GCD) method to obtain each\n",
    "factor weight helps the ELM get more precise results."
   ]
  },
  {
   "cell_type": "code",
   "execution_count": null,
   "metadata": {},
   "outputs": [],
   "source": []
  }
 ],
 "metadata": {
  "kernelspec": {
   "display_name": "Python 3",
   "language": "python",
   "name": "python3"
  },
  "language_info": {
   "codemirror_mode": {
    "name": "ipython",
    "version": 3
   },
   "file_extension": ".py",
   "mimetype": "text/x-python",
   "name": "python",
   "nbconvert_exporter": "python",
   "pygments_lexer": "ipython3",
   "version": "3.7.1"
  }
 },
 "nbformat": 4,
 "nbformat_minor": 2
}
